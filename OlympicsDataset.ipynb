{
 "cells": [
  {
   "cell_type": "code",
   "execution_count": 103,
   "metadata": {
    "collapsed": true
   },
   "outputs": [],
   "source": [
    "\n",
    "import pandas as pd"
   ]
  },
  {
   "cell_type": "code",
   "execution_count": 107,
   "metadata": {
    "collapsed": true
   },
   "outputs": [],
   "source": [
    "olympicdata = pd.read_csv('olympics.csv', index_col=0, skiprows=1)"
   ]
  },
  {
   "cell_type": "code",
   "execution_count": 108,
   "metadata": {},
   "outputs": [
    {
     "data": {
      "text/plain": [
       "Index(['# Summer', '01 !', '02 !', '03 !', 'Total', '# Winter', '01 !.1',\n",
       "       '02 !.1', '03 !.1', 'Total.1', '# Games', '01 !.2', '02 !.2', '03 !.2',\n",
       "       'Combined total'],\n",
       "      dtype='object')"
      ]
     },
     "execution_count": 108,
     "metadata": {},
     "output_type": "execute_result"
    }
   ],
   "source": [
    "olympicdata.columns"
   ]
  },
  {
   "cell_type": "code",
   "execution_count": 110,
   "metadata": {},
   "outputs": [],
   "source": [
    "olympicdata.columns=['Summer', 'Gold', 'Silver', 'Bronze', 'Total', 'Winter', 'Gold.1',\n",
    "       'Silver.1', 'Bronze.1', 'Total.1', ' Games', 'Gold.2', 'Silver.2', 'Bronze.2',\n",
    "       'Combined total']"
   ]
  },
  {
   "cell_type": "code",
   "execution_count": 111,
   "metadata": {},
   "outputs": [
    {
     "data": {
      "text/html": [
       "<div>\n",
       "<style>\n",
       "    .dataframe thead tr:only-child th {\n",
       "        text-align: right;\n",
       "    }\n",
       "\n",
       "    .dataframe thead th {\n",
       "        text-align: left;\n",
       "    }\n",
       "\n",
       "    .dataframe tbody tr th {\n",
       "        vertical-align: top;\n",
       "    }\n",
       "</style>\n",
       "<table border=\"1\" class=\"dataframe\">\n",
       "  <thead>\n",
       "    <tr style=\"text-align: right;\">\n",
       "      <th></th>\n",
       "      <th>Summer</th>\n",
       "      <th>Gold</th>\n",
       "      <th>Silver</th>\n",
       "      <th>Bronze</th>\n",
       "      <th>Total</th>\n",
       "      <th>Winter</th>\n",
       "      <th>Gold.1</th>\n",
       "      <th>Silver.1</th>\n",
       "      <th>Bronze.1</th>\n",
       "      <th>Total.1</th>\n",
       "      <th>Games</th>\n",
       "      <th>Gold.2</th>\n",
       "      <th>Silver.2</th>\n",
       "      <th>Bronze.2</th>\n",
       "      <th>Combined total</th>\n",
       "    </tr>\n",
       "  </thead>\n",
       "  <tbody>\n",
       "    <tr>\n",
       "      <th>Afghanistan</th>\n",
       "      <td>13</td>\n",
       "      <td>0</td>\n",
       "      <td>0</td>\n",
       "      <td>2</td>\n",
       "      <td>2</td>\n",
       "      <td>0</td>\n",
       "      <td>0</td>\n",
       "      <td>0</td>\n",
       "      <td>0</td>\n",
       "      <td>0</td>\n",
       "      <td>13</td>\n",
       "      <td>0</td>\n",
       "      <td>0</td>\n",
       "      <td>2</td>\n",
       "      <td>2</td>\n",
       "    </tr>\n",
       "    <tr>\n",
       "      <th>Algeria</th>\n",
       "      <td>12</td>\n",
       "      <td>5</td>\n",
       "      <td>2</td>\n",
       "      <td>8</td>\n",
       "      <td>15</td>\n",
       "      <td>3</td>\n",
       "      <td>0</td>\n",
       "      <td>0</td>\n",
       "      <td>0</td>\n",
       "      <td>0</td>\n",
       "      <td>15</td>\n",
       "      <td>5</td>\n",
       "      <td>2</td>\n",
       "      <td>8</td>\n",
       "      <td>15</td>\n",
       "    </tr>\n",
       "    <tr>\n",
       "      <th>Argentina</th>\n",
       "      <td>23</td>\n",
       "      <td>18</td>\n",
       "      <td>24</td>\n",
       "      <td>28</td>\n",
       "      <td>70</td>\n",
       "      <td>18</td>\n",
       "      <td>0</td>\n",
       "      <td>0</td>\n",
       "      <td>0</td>\n",
       "      <td>0</td>\n",
       "      <td>41</td>\n",
       "      <td>18</td>\n",
       "      <td>24</td>\n",
       "      <td>28</td>\n",
       "      <td>70</td>\n",
       "    </tr>\n",
       "    <tr>\n",
       "      <th>Armenia</th>\n",
       "      <td>5</td>\n",
       "      <td>1</td>\n",
       "      <td>2</td>\n",
       "      <td>9</td>\n",
       "      <td>12</td>\n",
       "      <td>6</td>\n",
       "      <td>0</td>\n",
       "      <td>0</td>\n",
       "      <td>0</td>\n",
       "      <td>0</td>\n",
       "      <td>11</td>\n",
       "      <td>1</td>\n",
       "      <td>2</td>\n",
       "      <td>9</td>\n",
       "      <td>12</td>\n",
       "    </tr>\n",
       "    <tr>\n",
       "      <th>Australasia</th>\n",
       "      <td>2</td>\n",
       "      <td>3</td>\n",
       "      <td>4</td>\n",
       "      <td>5</td>\n",
       "      <td>12</td>\n",
       "      <td>0</td>\n",
       "      <td>0</td>\n",
       "      <td>0</td>\n",
       "      <td>0</td>\n",
       "      <td>0</td>\n",
       "      <td>2</td>\n",
       "      <td>3</td>\n",
       "      <td>4</td>\n",
       "      <td>5</td>\n",
       "      <td>12</td>\n",
       "    </tr>\n",
       "  </tbody>\n",
       "</table>\n",
       "</div>"
      ],
      "text/plain": [
       "             Summer  Gold  Silver  Bronze  Total  Winter  Gold.1  Silver.1  \\\n",
       "Afghanistan      13     0       0       2      2       0       0         0   \n",
       "Algeria          12     5       2       8     15       3       0         0   \n",
       "Argentina        23    18      24      28     70      18       0         0   \n",
       "Armenia           5     1       2       9     12       6       0         0   \n",
       "Australasia       2     3       4       5     12       0       0         0   \n",
       "\n",
       "             Bronze.1  Total.1   Games  Gold.2  Silver.2  Bronze.2  \\\n",
       "Afghanistan         0        0      13       0         0         2   \n",
       "Algeria             0        0      15       5         2         8   \n",
       "Argentina           0        0      41      18        24        28   \n",
       "Armenia             0        0      11       1         2         9   \n",
       "Australasia         0        0       2       3         4         5   \n",
       "\n",
       "             Combined total  \n",
       "Afghanistan               2  \n",
       "Algeria                  15  \n",
       "Argentina                70  \n",
       "Armenia                  12  \n",
       "Australasia              12  "
      ]
     },
     "execution_count": 111,
     "metadata": {},
     "output_type": "execute_result"
    }
   ],
   "source": [
    "country = olympicdata.index.str.split('\\s\\(') \n",
    "olympicdata.index = country.str[0] \n",
    "olympicdata.drop('Totals')"
   ]
  },
  {
   "cell_type": "code",
   "execution_count": 125,
   "metadata": {
    "collapsed": true
   },
   "outputs": [],
   "source": [
    "def first():\n",
    "   \n",
    "    return olympicdata.iloc[0]"
   ]
  },
  {
   "cell_type": "code",
   "execution_count": 126,
   "metadata": {},
   "outputs": [
    {
     "data": {
      "text/plain": [
       "Summer            13\n",
       "Gold               0\n",
       "Silver             0\n",
       "Bronze             2\n",
       "Total              2\n",
       "Winter             0\n",
       "Gold.1             0\n",
       "Silver.1           0\n",
       "Bronze.1           0\n",
       "Total.1            0\n",
       " Games            13\n",
       "Gold.2             0\n",
       "Silver.2           0\n",
       "Bronze.2           2\n",
       "Combined total     2\n",
       "diff               0\n",
       "Points             2\n",
       "Name: Afghanistan, dtype: int64"
      ]
     },
     "execution_count": 126,
     "metadata": {},
     "output_type": "execute_result"
    }
   ],
   "source": [
    "first()"
   ]
  },
  {
   "cell_type": "code",
   "execution_count": 122,
   "metadata": {},
   "outputs": [
    {
     "data": {
      "text/plain": [
       "'United States'"
      ]
     },
     "execution_count": 122,
     "metadata": {},
     "output_type": "execute_result"
    }
   ],
   "source": [
    "def most_gold ():\n",
    "    return olympicdata[olympicdata['Gold'] == olympicdata['Gold'].max()].index[0]\n",
    "\n",
    "most_gold()"
   ]
  },
  {
   "cell_type": "code",
   "execution_count": 121,
   "metadata": {},
   "outputs": [
    {
     "data": {
      "text/plain": [
       "'United States'"
      ]
     },
     "execution_count": 121,
     "metadata": {},
     "output_type": "execute_result"
    }
   ],
   "source": [
    "def difference():\n",
    "    olympicdata['diff'] = abs(olympicdata['Gold'] - olympicdata['Gold.1'])\n",
    "    return olympicdata[olympicdata['diff'] == olympicdata['diff'].max()].index[0]\n",
    "\n",
    "difference()"
   ]
  },
  {
   "cell_type": "code",
   "execution_count": 120,
   "metadata": {},
   "outputs": [
    {
     "data": {
      "text/plain": [
       "Afghanistan                            2\n",
       "Algeria                               27\n",
       "Argentina                            130\n",
       "Armenia                               16\n",
       "Australasia                           22\n",
       "Australia                            919\n",
       "Austria                              488\n",
       "Azerbaijan                            43\n",
       "Bahamas                               24\n",
       "Bahrain                                1\n",
       "Barbados                               1\n",
       "Belarus                              149\n",
       "Belgium                              273\n",
       "Bermuda                                1\n",
       "Bohemia                                5\n",
       "Botswana                               2\n",
       "Brazil                               184\n",
       "British West Indies                    2\n",
       "Bulgaria                             408\n",
       "Burundi                                3\n",
       "Cameroon                              12\n",
       "Canada                               794\n",
       "Chile                                 24\n",
       "China                               1101\n",
       "Colombia                              29\n",
       "Costa Rica                             7\n",
       "Ivory Coast                            2\n",
       "Croatia                               66\n",
       "Cuba                                 420\n",
       "Cyprus                                 2\n",
       "                                    ... \n",
       "Spain                                267\n",
       "Sri Lanka                              4\n",
       "Sudan                                  2\n",
       "Suriname                               4\n",
       "Sweden                              1163\n",
       "Switzerland                          582\n",
       "Syria                                  6\n",
       "Chinese Taipei                        32\n",
       "Tajikistan                             4\n",
       "Tanzania                               4\n",
       "Thailand                              44\n",
       "Togo                                   1\n",
       "Tonga                                  2\n",
       "Trinidad and Tobago                   27\n",
       "Tunisia                               19\n",
       "Turkey                               191\n",
       "Uganda                                14\n",
       "Ukraine                              216\n",
       "United Arab Emirates                   3\n",
       "United States                       5600\n",
       "Uruguay                               16\n",
       "Uzbekistan                            38\n",
       "Venezuela                             18\n",
       "Vietnam                                4\n",
       "Virgin Islands                         2\n",
       "Yugoslavia                           170\n",
       "Independent Olympic Participants       4\n",
       "Zambia                                 3\n",
       "Zimbabwe                              18\n",
       "Mixed team                            38\n",
       "Name: Points, Length: 146, dtype: int64"
      ]
     },
     "execution_count": 120,
     "metadata": {},
     "output_type": "execute_result"
    }
   ],
   "source": [
    "def Points():\n",
    "    olympicdata['Points'] = olympicdata['Gold.2'] * 3 + olympicdata['Silver.2'] * 2 + olympicdata['Bronze']\n",
    "    return olympicdata['Points']\n",
    "\n",
    "Points()"
   ]
  },
  {
   "cell_type": "code",
   "execution_count": null,
   "metadata": {
    "collapsed": true
   },
   "outputs": [],
   "source": [
    "\n"
   ]
  },
  {
   "cell_type": "code",
   "execution_count": null,
   "metadata": {
    "collapsed": true
   },
   "outputs": [],
   "source": []
  }
 ],
 "metadata": {
  "kernelspec": {
   "display_name": "Python 3",
   "language": "python",
   "name": "python3"
  },
  "language_info": {
   "codemirror_mode": {
    "name": "ipython",
    "version": 3
   },
   "file_extension": ".py",
   "mimetype": "text/x-python",
   "name": "python",
   "nbconvert_exporter": "python",
   "pygments_lexer": "ipython3",
   "version": "3.6.1"
  }
 },
 "nbformat": 4,
 "nbformat_minor": 2
}
